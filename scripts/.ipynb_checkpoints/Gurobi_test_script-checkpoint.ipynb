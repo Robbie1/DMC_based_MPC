{
 "cells": [
  {
   "cell_type": "code",
   "execution_count": 6,
   "metadata": {
    "collapsed": false
   },
   "outputs": [],
   "source": [
    "%matplotlib notebook\n",
    "\n",
    "import os\n",
    "import scipy.signal as sig\n",
    "import matplotlib.pyplot as plt\n",
    "import numpy as np\n",
    "from numpy import matlib\n",
    "from gurobipy import *\n",
    "# from cvxopt.solvers import qp\n",
    "# from cvxopt import matrix\n",
    "\n",
    "# controller classes\n",
    "import Model as LTImodel # dynamic models\n",
    "import InitCond as initial # init conditions for controller\n",
    "import tuning as tune # tuning matrices for controller\n",
    "import ContRanges as c_ranges # tuning matrices for controller\n",
    "import MPCcontroller as MPC # MPC controller\n",
    "import StatePredictor as StatePred # state predictor\n",
    "\n",
    "# Tools\n",
    "import CommonUtils as Tools # some tools to make handling things easier\n",
    "\n",
    "# Testing\n",
    "from StatePredictor import shift_Yhat as my\n",
    "\n",
    "import pandas as pd\n",
    "\n",
    "import time as clock\n"
   ]
  },
  {
   "cell_type": "code",
   "execution_count": 7,
   "metadata": {
    "collapsed": true
   },
   "outputs": [],
   "source": [
    "\"\"\"\n",
    "Global Config Parameters\n",
    "-------------------------------------------------------------------------\n",
    "\"\"\"\n",
    "pred_H = 30\n",
    "cont_H = 20\n",
    "deltaT = 2\n"
   ]
  },
  {
   "cell_type": "code",
   "execution_count": 8,
   "metadata": {
    "collapsed": true
   },
   "outputs": [],
   "source": [
    "\"\"\"\n",
    "Modelling\n",
    "-------------------------------------------------------------------------\n",
    "\"\"\"\n",
    "# Create the model\n",
    "G = matlib.repmat(None,2,2)\n",
    "\n",
    "G[0][0] = sig.lti([0.01], [10.0, 0.0])\n",
    "G[0][1] = sig.lti([-2.0], [3.0, 2.0, 1.0])\n",
    "\n",
    "G[1][0] = sig.lti([-5.0], [20.0, 1.7, 1.0])\n",
    "G[1][1] = sig.lti([1.0], [5.0, 1.0])\n",
    "\n",
    "# Create the model object\n",
    "G_model = LTImodel.Mod(G, deltaT, pred_H)"
   ]
  },
  {
   "cell_type": "code",
   "execution_count": 9,
   "metadata": {
    "collapsed": true
   },
   "outputs": [],
   "source": [
    "\"\"\"\n",
    "State predictor Configuration\n",
    "-------------------------------------------------------------------------\n",
    "\"\"\"\n",
    "init_PV = np.array([0.0, 0.0])\n",
    "init_MV = np.array([0.0, 0.0])\n",
    "\n",
    "# state predictor config\n",
    "init_state = Tools.vector_appending(init_PV, pred_H)\n",
    "State = StatePred.Predictor(G_model, deltaT,  pred_H, cont_H, init_state)"
   ]
  },
  {
   "cell_type": "code",
   "execution_count": 10,
   "metadata": {
    "collapsed": false
   },
   "outputs": [],
   "source": [
    "\"\"\"\n",
    "Control Configuration\n",
    "-------------------------------------------------------------------------\n",
    "\"\"\"\n",
    "# MV and CV ranges\n",
    "u_range = np.array([[0.0, 5.0],\n",
    "                    [0.0, 1.0]])\n",
    "\n",
    "y_range = np.array([[0.5, 2.0],\n",
    "                    [0.0, 4.0]])\n",
    "\n",
    "# MV and CV weights\n",
    "u_tune = np.array([1.0, 1.0])\n",
    "y_tune = np.array([1.0, 1.0])\n",
    "\n",
    "# MV limits\n",
    "u_low = np.array([-5.0, -5.0])\n",
    "u_high = np.array([5.0, 5.0])\n",
    "\n",
    "# MV roc limits - not being used now\n",
    "u_roc_up = np.array([3.0, 3.0])\n",
    "u_roc_down = -np.array([3.0, 3.0])\n",
    "\n",
    "# CV Setpoints\n",
    "init_SP = np.array([10.0, 5.0])\n",
    "\n",
    "# Create object\n",
    "#--------------\n",
    "# Create ranges object - u_tune, y_tune\n",
    "CRanges = c_ranges.cont_ranges(u_range, y_range)\n",
    "\n",
    "# Create tuning object - u_tune, y_tune\n",
    "Tuning = tune.tuning(u_tune, y_tune, pred_H, cont_H, u_low, u_high, u_roc_up, u_roc_down)\n",
    "\n",
    "# Initial conditions - pred_H, cont_H, SP, PV\n",
    "BeginCond = initial.init_cond(pred_H, cont_H, init_SP, init_PV, init_MV)\n",
    "\n",
    "# Create the MPC control object\n",
    "Controller = MPC.Control(G_model, deltaT, pred_H, cont_H, Tuning, CRanges, BeginCond)\n"
   ]
  },
  {
   "cell_type": "code",
   "execution_count": 12,
   "metadata": {
    "collapsed": false
   },
   "outputs": [
    {
     "data": {
      "text/plain": [
       "matrix([[ 718.76668214],\n",
       "        [ 696.37762423],\n",
       "        [ 674.12059201],\n",
       "        [ 651.55787631],\n",
       "        [ 628.23190829],\n",
       "        [ 603.75968135],\n",
       "        [ 577.92868372],\n",
       "        [ 550.77405407],\n",
       "        [ 522.61693886],\n",
       "        [ 494.04863765],\n",
       "        [ 465.8538902 ],\n",
       "        [ 438.8784752 ],\n",
       "        [ 413.85918739],\n",
       "        [ 391.24567522],\n",
       "        [ 371.05082749],\n",
       "        [ 352.76707614],\n",
       "        [ 335.37877483],\n",
       "        [ 317.48580226],\n",
       "        [ 297.53250061],\n",
       "        [ 274.11238395],\n",
       "        [ 442.49992313],\n",
       "        [ 427.499885  ],\n",
       "        [ 412.49982842],\n",
       "        [ 397.49974452],\n",
       "        [ 382.49961964],\n",
       "        [ 367.49943249],\n",
       "        [ 352.49915176],\n",
       "        [ 337.49873223],\n",
       "        [ 322.49811022],\n",
       "        [ 307.49719409],\n",
       "        [ 292.49583897],\n",
       "        [ 277.49379961],\n",
       "        [ 262.49067164],\n",
       "        [ 247.48587713],\n",
       "        [ 232.47875581],\n",
       "        [ 217.46869032],\n",
       "        [ 202.45483303],\n",
       "        [ 187.43469518],\n",
       "        [ 172.40148022],\n",
       "        [ 157.34263889]])"
      ]
     },
     "execution_count": 12,
     "metadata": {},
     "output_type": "execute_result"
    }
   ],
   "source": [
    "#Controller.\n",
    "Controller.Gradient\n"
   ]
  },
  {
   "cell_type": "code",
   "execution_count": 10,
   "metadata": {
    "collapsed": false
   },
   "outputs": [
    {
     "data": {
      "text/plain": [
       "array([[ 0.5,  2. ],\n",
       "       [ 0. ,  4. ]])"
      ]
     },
     "execution_count": 10,
     "metadata": {},
     "output_type": "execute_result"
    }
   ],
   "source": [
    "Controller.Ranges.y_range"
   ]
  },
  {
   "cell_type": "code",
   "execution_count": 8,
   "metadata": {
    "collapsed": true
   },
   "outputs": [],
   "source": [
    "\"\"\"\n",
    "Initialisation\n",
    "-------------------------------------------------------------------------\n",
    "\"\"\"\n",
    "# initialise MVs\n",
    "u_meas = np.zeros( len( G_model.model_stack[0,:] ) ) # 1d array\n",
    "y_meas = np.zeros( len( G_model.model_stack[0,:] ) ) # 1d array\n",
    "u_prev = np.zeros( len( G_model.model_stack[0,:] ) ) # 1d array\n",
    "\n",
    "u_all = np.matrix(u_meas) # u_all -> matrix, rows = time, cols = vars\n",
    "y_all = np.matrix(y_meas) # y_all -> matrix, rows = time, cols = vars\n",
    "time = np.array([0])\n"
   ]
  },
  {
   "cell_type": "code",
   "execution_count": 9,
   "metadata": {
    "collapsed": false
   },
   "outputs": [
    {
     "data": {
      "text/plain": [
       "'\\n# Solve using gurobi\\n# -------------------------------------------------------------------------\\nm = Model(\"MPC\")\\nmv_define = Tools.vector_appending(init_MV, cont_H)\\n#mv_gurobi = m.addVars(range(0, len(mv_define)), lb = Tools.vector_appending(-u_roc_down, cont_H), ub = Tools.vector_appending(u_roc_up, cont_H), vtype=\\'C\\')\\nmv_gurobi = m.addVars(range(0, len(mv_define)), lb = -GRB.INFINITY, ub = GRB.INFINITY, vtype=\\'C\\')\\n\\n#Min and Max move constraints\\n#--------------------------------------------------------------------------\\nd = 1.0\\na = 3.0 # should me u_roc_up/u_roc_down\\n\\nexpr = LinExpr\\n\\ncnt = 0\\nidx = 0\\ncnt_1 = 0\\nfor i in range(len(mv_gurobi)):\\n    delta = m.addVars(range(3), vtype=\\'B\\')\\n    \\n    m.addConstr(mv_gurobi[i] - d, GRB.GREATER_EQUAL, (-a-d)*(1-delta[0]) )\\n    m.addConstr(mv_gurobi[i] - d, GRB.LESS_EQUAL, (a-d)*(delta[0]) )\\n\\n    m.addConstr(mv_gurobi[i] + d, GRB.GREATER_EQUAL, (-a+d)*(delta[1]) )\\n    m.addConstr(mv_gurobi[i] + d, GRB.LESS_EQUAL, (a+d)*(1-delta[1]) )\\n\\n    m.addConstr(mv_gurobi[i], GRB.GREATER_EQUAL, (-a)*(1-delta[2]) )\\n    m.addConstr(mv_gurobi[i], GRB.LESS_EQUAL, (a)*(1-delta[2]) )\\n\\n    m.addConstr(delta[0] + delta[1] + delta[2], GRB.EQUAL, 1.0)\\n    \\n    # This is not correct, need to do a cumsum and constrain all the idx\\'s\\n    if cnt > cont_H:\\n        cnt = 0\\n        idx = idx + 1\\n        cnt_1 = cont_H\\n \\n    m.addConstr(sum(mv_gurobi.select([range(cnt_1,i)])), GRB.LESS_EQUAL, u_high[idx])\\n    m.addConstr(sum(mv_gurobi.select([range(cnt_1,i)])), GRB.GREATER_EQUAL, u_low[idx])\\n    cnt += 1\\n#--------------------------------------------------------------------------\\nm.addConstr(sum(mv_gurobi.select([range(cnt_1,i+1)])), GRB.LESS_EQUAL, u_high[idx])\\nm.addConstr(sum(mv_gurobi.select([range(cnt_1,i+1)])), GRB.GREATER_EQUAL, u_low[idx])\\n \\nobj_func = 0.5*Controller.Hessian.dot(pd.Series(mv_gurobi)).dot(pd.Series(mv_gurobi))[0].tolist()[0][0] + np.sum(np.ravel(Controller.Gradient)*pd.Series(mv_gurobi))\\n\\nm.setObjective(obj_func, GRB.MINIMIZE)\\nm.setParam(\"OutputFlag\", 0)\\n'"
      ]
     },
     "execution_count": 9,
     "metadata": {},
     "output_type": "execute_result"
    }
   ],
   "source": [
    "'''\n",
    "# Solve using gurobi\n",
    "# -------------------------------------------------------------------------\n",
    "m = Model(\"MPC\")\n",
    "mv_define = Tools.vector_appending(init_MV, cont_H)\n",
    "#mv_gurobi = m.addVars(range(0, len(mv_define)), lb = Tools.vector_appending(-u_roc_down, cont_H), ub = Tools.vector_appending(u_roc_up, cont_H), vtype='C')\n",
    "mv_gurobi = m.addVars(range(0, len(mv_define)), lb = -GRB.INFINITY, ub = GRB.INFINITY, vtype='C')\n",
    "\n",
    "#Min and Max move constraints\n",
    "#--------------------------------------------------------------------------\n",
    "d = 1.0\n",
    "a = 3.0 # should me u_roc_up/u_roc_down\n",
    "\n",
    "expr = LinExpr\n",
    "\n",
    "cnt = 0\n",
    "idx = 0\n",
    "cnt_1 = 0\n",
    "for i in range(len(mv_gurobi)):\n",
    "    delta = m.addVars(range(3), vtype='B')\n",
    "    \n",
    "    m.addConstr(mv_gurobi[i] - d, GRB.GREATER_EQUAL, (-a-d)*(1-delta[0]) )\n",
    "    m.addConstr(mv_gurobi[i] - d, GRB.LESS_EQUAL, (a-d)*(delta[0]) )\n",
    "\n",
    "    m.addConstr(mv_gurobi[i] + d, GRB.GREATER_EQUAL, (-a+d)*(delta[1]) )\n",
    "    m.addConstr(mv_gurobi[i] + d, GRB.LESS_EQUAL, (a+d)*(1-delta[1]) )\n",
    "\n",
    "    m.addConstr(mv_gurobi[i], GRB.GREATER_EQUAL, (-a)*(1-delta[2]) )\n",
    "    m.addConstr(mv_gurobi[i], GRB.LESS_EQUAL, (a)*(1-delta[2]) )\n",
    "\n",
    "    m.addConstr(delta[0] + delta[1] + delta[2], GRB.EQUAL, 1.0)\n",
    "    \n",
    "    # This is not correct, need to do a cumsum and constrain all the idx's\n",
    "    if cnt > cont_H:\n",
    "        cnt = 0\n",
    "        idx = idx + 1\n",
    "        cnt_1 = cont_H\n",
    " \n",
    "    m.addConstr(sum(mv_gurobi.select([range(cnt_1,i)])), GRB.LESS_EQUAL, u_high[idx])\n",
    "    m.addConstr(sum(mv_gurobi.select([range(cnt_1,i)])), GRB.GREATER_EQUAL, u_low[idx])\n",
    "    cnt += 1\n",
    "#--------------------------------------------------------------------------\n",
    "m.addConstr(sum(mv_gurobi.select([range(cnt_1,i+1)])), GRB.LESS_EQUAL, u_high[idx])\n",
    "m.addConstr(sum(mv_gurobi.select([range(cnt_1,i+1)])), GRB.GREATER_EQUAL, u_low[idx])\n",
    " \n",
    "obj_func = 0.5*Controller.Hessian.dot(pd.Series(mv_gurobi)).dot(pd.Series(mv_gurobi))[0].tolist()[0][0] + np.sum(np.ravel(Controller.Gradient)*pd.Series(mv_gurobi))\n",
    "\n",
    "m.setObjective(obj_func, GRB.MINIMIZE)\n",
    "m.setParam(\"OutputFlag\", 0)\n",
    "'''"
   ]
  },
  {
   "cell_type": "code",
   "execution_count": 10,
   "metadata": {
    "collapsed": false
   },
   "outputs": [
    {
     "data": {
      "text/plain": [
       "\"\\nm.update()\\nm.optimize()\\n\\n#mv_optimal = m.getVars()\\nX = np.zeros(len(m.getVars()))\\ni = 0\\nfor v in m.getVars():\\n    X[i] = v.x\\n    i = i + 1\\n\\nprint( m.Runtime)\\nprint('\\n',X[0:2*cont_H])\\n\""
      ]
     },
     "execution_count": 10,
     "metadata": {},
     "output_type": "execute_result"
    }
   ],
   "source": [
    "'''\n",
    "m.update()\n",
    "m.optimize()\n",
    "\n",
    "#mv_optimal = m.getVars()\n",
    "X = np.zeros(len(m.getVars()))\n",
    "i = 0\n",
    "for v in m.getVars():\n",
    "    X[i] = v.x\n",
    "    i = i + 1\n",
    "\n",
    "print( m.Runtime)\n",
    "print('\\n',X[0:2*cont_H])\n",
    "'''"
   ]
  },
  {
   "cell_type": "code",
   "execution_count": 11,
   "metadata": {
    "collapsed": false
   },
   "outputs": [
    {
     "data": {
      "text/plain": [
       "\"\\nplt.figure(figsize=(9, 6))\\nplt.subplot(2,1,1)\\nplt.plot( (Controller.Su*np.matrix(X).T[0:2*cont_H,:])[0:pred_H] ) \\nplt.step( range(cont_H), np.ravel(np.cumsum(np.matrix(X).T[0:cont_H])) )\\nplt.plot(np.tile(init_SP[0], pred_H), 'r')\\nplt.grid()\\n\\nplt.subplot(2,1,2)\\nplt.plot( (Controller.Su*np.matrix(X).T[0:2*cont_H,:])[pred_H:] ) \\nplt.plot(np.tile(init_SP[1], pred_H), 'r')\\nplt.step( range(cont_H), np.ravel(np.cumsum(np.matrix(X).T[cont_H:2*cont_H])) )\\n\\nplt.grid()\\nplt.show()\\n\""
      ]
     },
     "execution_count": 11,
     "metadata": {},
     "output_type": "execute_result"
    }
   ],
   "source": [
    "'''\n",
    "plt.figure(figsize=(9, 6))\n",
    "plt.subplot(2,1,1)\n",
    "plt.plot( (Controller.Su*np.matrix(X).T[0:2*cont_H,:])[0:pred_H] ) \n",
    "plt.step( range(cont_H), np.ravel(np.cumsum(np.matrix(X).T[0:cont_H])) )\n",
    "plt.plot(np.tile(init_SP[0], pred_H), 'r')\n",
    "plt.grid()\n",
    "\n",
    "plt.subplot(2,1,2)\n",
    "plt.plot( (Controller.Su*np.matrix(X).T[0:2*cont_H,:])[pred_H:] ) \n",
    "plt.plot(np.tile(init_SP[1], pred_H), 'r')\n",
    "plt.step( range(cont_H), np.ravel(np.cumsum(np.matrix(X).T[cont_H:2*cont_H])) )\n",
    "\n",
    "plt.grid()\n",
    "plt.show()\n",
    "'''"
   ]
  },
  {
   "cell_type": "code",
   "execution_count": 12,
   "metadata": {
    "collapsed": false
   },
   "outputs": [
    {
     "data": {
      "text/plain": [
       "'np.matrix(X).T[0:40,:]'"
      ]
     },
     "execution_count": 12,
     "metadata": {},
     "output_type": "execute_result"
    }
   ],
   "source": [
    "'''np.matrix(X).T[0:40,:]'''"
   ]
  }
 ],
 "metadata": {
  "anaconda-cloud": {},
  "kernelspec": {
   "display_name": "Python [conda env:spyder_python]",
   "language": "python",
   "name": "conda-env-spyder_python-py"
  },
  "language_info": {
   "codemirror_mode": {
    "name": "ipython",
    "version": 3
   },
   "file_extension": ".py",
   "mimetype": "text/x-python",
   "name": "python",
   "nbconvert_exporter": "python",
   "pygments_lexer": "ipython3",
   "version": "3.5.2"
  }
 },
 "nbformat": 4,
 "nbformat_minor": 1
}
