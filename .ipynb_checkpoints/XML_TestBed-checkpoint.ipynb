{
 "cells": [
  {
   "cell_type": "code",
   "execution_count": null,
   "metadata": {
    "collapsed": false
   },
   "outputs": [],
   "source": [
    "# Notes\n",
    "#---------------------------\n",
    "# to start code:\n",
    "#     activate spyder_env\n",
    "#     jupyter notebook\n",
    "# Get soft constraints in algorithm:\n",
    "#     Add epsilons to the  optimisation set, in this case the control horizon moveset\n",
    "#     Get lhs of the constraint matrix sorted, Su*U < y_high + eps and Su*U > y_low + eps --> Remember disturbance influence\n",
    "#     Remember eps > 0 --> diagonal ones on lhs, zeros on rhs\n",
    "#     LHS constraint has variable component each execution (Controller.update_Constraints)\n",
    "# Steps\n",
    "#     (Done) Get the y lims into the controller tuning object from the XML parser\n",
    "#     Update Hessian\n",
    "#     Update Gradient\n",
    "#     Update Controller.update_Constraints method\n",
    "#---------------------------\n",
    "\n",
    "\n",
    "%matplotlib qt \n",
    "\n",
    "import xml.etree.ElementTree as ET\n",
    "\n",
    "import matplotlib.pyplot as plt\n",
    "import numpy as np\n",
    "from numpy import matlib\n",
    "\n",
    "import Model as LTImodel # dynamic models\n",
    "import CommonUtils as Tools\n",
    "\n",
    "import XML_Parsing\n",
    "from cvxopt import solvers\n",
    "\n",
    "import StatePredictor as StatePred # state predictor\n",
    "from Simulator import Simulator\n",
    "\n",
    "import CommonUtils as Tools\n",
    "\n",
    "# Just for testing\n",
    "#-------------------------------\n",
    "from cvxopt import solvers\n",
    "from cvxopt.solvers import qp\n",
    "from cvxopt import matrix"
   ]
  },
  {
   "cell_type": "code",
   "execution_count": 9,
   "metadata": {
    "collapsed": true
   },
   "outputs": [],
   "source": [
    "# Configuration File\n",
    "path = 'C:\\\\Users\\\\r\\\\Documents\\\\SpyderWorkspace\\\\TestingDynamicModelControl\\\\Configs\\\\Models\\\\'\n",
    "mod_file = '3by3_dist_MPC.xml'\n",
    "init_cond_file = '3by3_dist_Init.xml'"
   ]
  },
  {
   "cell_type": "code",
   "execution_count": 10,
   "metadata": {
    "collapsed": false
   },
   "outputs": [],
   "source": [
    "# Initial Condition Configuration\n",
    "BeginCond = XML_Parsing.Init_cond_XML(path+mod_file, path+init_cond_file)"
   ]
  },
  {
   "cell_type": "code",
   "execution_count": 11,
   "metadata": {
    "collapsed": false
   },
   "outputs": [],
   "source": [
    "# Controller Configuration\n",
    "Controller = XML_Parsing.Controller_from_XML(path+mod_file, BeginCond)"
   ]
  },
  {
   "cell_type": "code",
   "execution_count": 16,
   "metadata": {
    "collapsed": false
   },
   "outputs": [],
   "source": [
    "# State Predictor Configuration\n",
    "# Models Configuration\n",
    "G_model_cont = XML_Parsing.Model_from_XML(path+mod_file, 'Process_Model')\n",
    "G_model_cont_dist = XML_Parsing.Model_from_XML(path+mod_file, 'Disturbance_Model')\n",
    "G_tmp = np.concatenate( [G_model_cont.model_stack, G_model_cont_dist.model_stack], axis=1)\n",
    "G_model_state = LTImodel.Mod(G_tmp, Controller.delta_T, Controller.pred_H)\n",
    "# Initial State\n",
    "init_state = Tools.vector_appending(BeginCond.Y_init, Controller.pred_H)\n",
    "\n",
    "State = StatePred.Predictor(G_model_state, init_state)"
   ]
  },
  {
   "cell_type": "code",
   "execution_count": 17,
   "metadata": {
    "collapsed": false
   },
   "outputs": [],
   "source": [
    "# Simulation settings\n",
    "sim_no = 20\n",
    "\n",
    "# Generate disturbance data\n",
    "plant_d = np.asmatrix( np.cumsum( 1*( np.random.rand( sim_no, len(BeginCond.D_init)) - 0.5) ) ).T\n",
    "plant_d[0,:] = 0.0\n",
    "\n",
    "# Generate SP path\n",
    "Sim_SP = np.matlib.repmat(np.array([1.0, 0.0]), sim_no, 1)\n",
    "Sim_SP[10:50, :] = np.matrix([-2.0, -1.0])\n",
    "\n",
    "# Set solver display off\n",
    "solvers.options['show_progress'] = False\n",
    "\n",
    "# Generate simulator obj\n",
    "Sim = Simulator(State, Controller, BeginCond)"
   ]
  },
  {
   "cell_type": "code",
   "execution_count": 18,
   "metadata": {
    "collapsed": false
   },
   "outputs": [],
   "source": [
    "Sim.run_sim(sim_no, Sim_SP, plant_d)"
   ]
  },
  {
   "cell_type": "code",
   "execution_count": 15,
   "metadata": {
    "collapsed": false
   },
   "outputs": [
    {
     "data": {
      "text/plain": [
       "array([[ -2.32463152e-05],\n",
       "       [ -2.39457964e-05],\n",
       "       [ -1.81247764e-05],\n",
       "       [ -1.11844152e-02]])"
      ]
     },
     "execution_count": 15,
     "metadata": {},
     "output_type": "execute_result"
    }
   ],
   "source": [
    "Sim.eps"
   ]
  }
 ],
 "metadata": {
  "kernelspec": {
   "display_name": "Python 2",
   "language": "python",
   "name": "python2"
  },
  "language_info": {
   "codemirror_mode": {
    "name": "ipython",
    "version": 2
   },
   "file_extension": ".py",
   "mimetype": "text/x-python",
   "name": "python",
   "nbconvert_exporter": "python",
   "pygments_lexer": "ipython2",
   "version": "2.7.13"
  }
 },
 "nbformat": 4,
 "nbformat_minor": 2
}
