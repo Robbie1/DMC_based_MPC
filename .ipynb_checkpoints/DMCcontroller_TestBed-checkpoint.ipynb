{
 "cells": [
  {
   "cell_type": "code",
   "execution_count": 1,
   "metadata": {
    "collapsed": false
   },
   "outputs": [],
   "source": [
    "# %matplotlib notebook\n",
    "%matplotlib qt \n",
    "\n",
    "# Current status and things to do\n",
    "#----------------------------------\n",
    "# 1) Done(Basic) - Feedback - See how to deal with this, state estimator\n",
    "# 2) Done(One timestep out) Disturbances - State estimator \n",
    "# 3) Soft contstraints on CVs\n",
    "# 4) make it nicer to run in a loop - (Models from other function/text file, Controller Tuning, Initialisation -> Check XML read)\n",
    "# 5) Nice plotting environment to check simulation during runtime (PyQT?)\n",
    "\n",
    "import scipy.signal as sig\n",
    "import matplotlib.pyplot as plt\n",
    "import numpy as np\n",
    "from numpy import matlib\n",
    "from cvxopt import solvers\n",
    "from cvxopt.solvers import qp\n",
    "from cvxopt import matrix\n",
    "\n",
    "# controller classes\n",
    "import Model as LTImodel # dynamic models\n",
    "import InitCond as initial # init conditions for controller\n",
    "import tuning as tune # tuning matrices for controller\n",
    "import ContRanges as c_ranges # tuning matrices for controller\n",
    "import MPCcontroller as MPC # MPC controller\n",
    "import StatePredictor as StatePred # state predictor\n",
    "\n",
    "# Tools\n",
    "import CommonUtils as Tools # some tools to make handling things easier\n",
    "\n",
    "# Testing\n",
    "from StatePredictor import shift_Yhat as my\n",
    "import time as clock\n",
    "\n",
    "# to be removed\n",
    "import scipy.signal as sig"
   ]
  },
  {
   "cell_type": "code",
   "execution_count": 159,
   "metadata": {
    "collapsed": false
   },
   "outputs": [],
   "source": [
    "# Create the model\n",
    "no_mvs = 3\n",
    "no_cvs = 2\n",
    "no_dvs = 1\n",
    "\n",
    "# Model\n",
    "G = matlib.repmat(None, no_cvs, no_mvs + no_dvs)\n",
    "\n",
    "G[0][0] = sig.lti([1.0], [10.0, 1.0])\n",
    "G[0][1] = sig.lti([-0.01], [1.0, 0.0])\n",
    "G[0][2] = sig.lti([-0.3], [3.0, 1.0, 0.1])\n",
    "\n",
    "G[1][0] = sig.lti([-1.0], [5.0, 1.7, 1.0])\n",
    "G[1][1] = sig.lti([1.0], [5.0, 1.0])\n",
    "G[1][2] = sig.lti([0.5], [13.0, 3.1, 1.0])\n",
    "\n",
    "# Disturbance\n",
    "G[0][3] = sig.lti([-0.5], [10.0, 1.0])\n",
    "G[1][3] = sig.lti([0.1, 0.3], [30.0, 20, 1.0])\n",
    "\n",
    "# Create the model object\n",
    "pred_H = 50\n",
    "deltaT = 2\n",
    "G_model_state = LTImodel.Mod(G, deltaT, pred_H)\n",
    "G_model_cont = LTImodel.Mod(G[:,0:no_mvs], deltaT, pred_H)\n",
    "G_model_cont_dist = LTImodel.Mod(G[:,no_mvs:], deltaT, pred_H)"
   ]
  },
  {
   "cell_type": "code",
   "execution_count": 52,
   "metadata": {
    "collapsed": false
   },
   "outputs": [],
   "source": [
    "# Plot stepresponse\n",
    "G_model_state.plot_stepresponse()"
   ]
  },
  {
   "cell_type": "code",
   "execution_count": 160,
   "metadata": {
    "collapsed": false
   },
   "outputs": [],
   "source": [
    "# state predictor config\n",
    "init_PV = np.zeros(no_cvs)\n",
    "init_MV = np.zeros(no_mvs + no_dvs)\n",
    "\n",
    "init_state = Tools.vector_appending(init_PV, pred_H)\n",
    "State = StatePred.Predictor(G_model_state, deltaT,  pred_H, 1, init_state)"
   ]
  },
  {
   "cell_type": "code",
   "execution_count": 161,
   "metadata": {
    "collapsed": false
   },
   "outputs": [],
   "source": [
    "# DMC config\n",
    "# Horizons\n",
    "# pred_H -  Same as state predictor\n",
    "cont_H = 10\n",
    "\n",
    "# Tuning\n",
    "#-----------------------------\n",
    "# MV and CV weights\n",
    "u_tune = np.array([1.0, 1.0, 1.0])\n",
    "y_tune = np.array([1.0, 1.0])\n",
    "\n",
    "# MV limits\n",
    "u_low = -np.array([1.0, 1.0, 1.0])\n",
    "u_high = np.array([1.0, 1.0, 1.0])\n",
    "\n",
    "# MV roc limits - not being used now\n",
    "u_roc_up = np.array([1.0, 1.0, 1.0])\n",
    "u_roc_down = np.array([1.0, 1.0, 1.0])\n",
    "#-----------------------------\n",
    "\n",
    "# Initial Conditions\n",
    "#-----------------------------\n",
    "init_SP = np.array([0.0, 0.0])\n",
    "init_PV = np.array([0.0, 0.0])\n",
    "init_MV = np.array([0.0, 0.0, 0.0])\n",
    "init_DV = np.array([0.0])\n",
    "#-----------------------------\n",
    "\n",
    "# Create object\n",
    "#-----------------------------\n",
    "# Create tuning object - u_tune, y_tune\n",
    "Tuning = tune.tuning(u_tune, y_tune, pred_H, cont_H, u_low, u_high, u_roc_up, u_roc_down)\n",
    "\n",
    "# Initial conditions - pred_H, cont_H, SP, PV\n",
    "BeginCond = initial.init_cond(pred_H, cont_H, init_SP, init_PV, init_MV, init_DV)\n",
    "\n",
    "# Create the MPC control object\n",
    "Controller = MPC.Control(G_model_cont, deltaT, pred_H, cont_H, Tuning, BeginCond)\n",
    "#-----------------------------"
   ]
  },
  {
   "cell_type": "code",
   "execution_count": 163,
   "metadata": {
    "collapsed": false
   },
   "outputs": [],
   "source": [
    "hist = 50\n",
    "# initialise MVs\n",
    "u_meas = np.zeros( no_mvs ) # 1d array - The current measurement\n",
    "d_meas = np.zeros( no_dvs ) # 1d array\n",
    "y_meas = np.zeros( no_cvs ) # 1d array\n",
    "\n",
    "u_prev = np.zeros( no_mvs ) # 1d array\n",
    "d_prev = np.zeros( no_dvs ) # 1d array\n",
    "sp_prev = init_SP\n",
    "\n",
    "u_all = np.matrix(np.matlib.repmat(u_meas, hist, 1)) # u_all -> matrix, rows = time, cols = vars\n",
    "d_all = np.matrix(np.matlib.repmat(d_meas, hist, 1)) # y_all -> matrix, rows = time, cols = vars\n",
    "y_all = np.matrix(np.matlib.repmat(y_meas, hist, 1)) # y_all -> matrix, rows = time, cols = vars\n",
    "\n",
    "sp_all = np.matrix(np.matlib.repmat(sp_prev, hist, 1))\n",
    "time = np.array([0])\n",
    "\n",
    "optimal_mv_pre = qp( matrix(Controller.Hessian), matrix(Controller.Gradient), matrix(Controller.U_lhs), matrix(Controller.U_rhs) )\n",
    "# tmp1 = np.array(optimal_mv_pre['x']) # Extract x from qp atributes\n",
    "# tpm1_y = Controller.Su*tmp1"
   ]
  },
  {
   "cell_type": "code",
   "execution_count": 164,
   "metadata": {
    "collapsed": false
   },
   "outputs": [],
   "source": [
    "# Simulation settings\n",
    "sim_no = 100\n",
    "plant_d = np.asmatrix( np.cumsum( 1*( np.random.rand( sim_no, no_dvs) - 0.5) ) ).T\n",
    "plant_d[0,:] = 0.0\n",
    "\n",
    "solvers.options['show_progress'] = False\n",
    "Sim_SP = np.matlib.repmat(np.array([1.0, 0.0]), sim_no, 1)\n",
    "Sim_SP[10:50, :] = np.matrix([1.0, -1.0])"
   ]
  },
  {
   "cell_type": "code",
   "execution_count": 165,
   "metadata": {
    "collapsed": false
   },
   "outputs": [],
   "source": [
    "# initial plots\n",
    "line_lstCVs_past = []\n",
    "line_lstCVs_future = []\n",
    "line_lstSPs_past = []\n",
    "line_lstSPs_future = []\n",
    "line_lstMVs_past = []\n",
    "line_lstMVs_future = []\n",
    "\n",
    "for i in range(no_cvs):\n",
    "    plt.subplot(2, np.max([no_mvs, no_cvs]), i+1)\n",
    "    line1, = plt.plot(y_all[:,i], 'k')\n",
    "    line2, = plt.plot(range(hist, hist+pred_H), State.state[0:pred_H], 'r')\n",
    "    line3, = plt.plot(sp_all[:,i], 'b:')\n",
    "    line4, = plt.plot(range(hist, hist+pred_H), np.repeat(sp_prev[i], pred_H), 'b:')\n",
    "    plt.plot([hist, hist], [-3, 3], 'k--')\n",
    "    plt.xlim([0, hist+pred_H])\n",
    "    plt.ylim([-3,  3])\n",
    "    line_lstCVs_past.append(line1)\n",
    "    line_lstCVs_future.append(line2)\n",
    "    line_lstSPs_past.append(line3)\n",
    "    line_lstSPs_future.append(line4)\n",
    "    plt.grid()\n",
    "    \n",
    "for j in range(no_mvs):\n",
    "    plt.subplot(2, np.max([no_mvs, no_cvs]), np.max([no_mvs, no_cvs]) + j+1)\n",
    "    line1, = plt.plot(u_all[:,0], 'k')\n",
    "    line2, = plt.plot(range(hist, hist+cont_H), np.zeros(cont_H), 'b')\n",
    "    plt.plot(range(hist+pred_H), np.repeat( Tuning.u_low[j], hist+pred_H), 'g')\n",
    "    plt.plot(range(hist+pred_H), np.repeat( Tuning.u_high[j], hist+pred_H), 'g')\n",
    "    plt.plot([hist, hist], [-3, 3], 'k--')\n",
    "    plt.xlim([0, hist+pred_H])\n",
    "    plt.ylim([-3,  3])\n",
    "    line_lstMVs_past.append(line1)\n",
    "    line_lstMVs_future.append(line2)    \n",
    "    plt.grid()\n",
    "    "
   ]
  },
  {
   "cell_type": "code",
   "execution_count": 166,
   "metadata": {
    "collapsed": false,
    "scrolled": true
   },
   "outputs": [],
   "source": [
    "for i in range(0, sim_no):\n",
    "#     print(i)\n",
    "   # tic_timer = clock.time()\n",
    "    \n",
    "    # update states - MV readback \n",
    "    ystate = State.update_state(y_meas, np.concatenate([u_meas , d_meas]) - np.concatenate([u_prev, d_prev]))\n",
    "        \n",
    "    # update controller \n",
    "    #---------------------------------------------\n",
    "    Controller.update( my(ystate, Controller.pred_H, 2), u_meas, Tools.vector_appending(Sim_SP[i,:], Controller.pred_H) )\n",
    "    \n",
    "    # Solve QP - i.e. implement control move       \n",
    "    optimal_mv = qp( matrix(Controller.Hessian), matrix(Controller.Gradient), matrix(Controller.U_lhs), matrix(Controller.U_rhs) )\n",
    "    tmp = np.array(optimal_mv['x']) # Extract x from qp atributes\n",
    "    u_current = np.ravel( Tools.extract_mv( tmp, Controller.cont_H ) ) # Extract only mv moves that will be implemented\n",
    "    d_current = plant_d[i,:]      \n",
    "    \n",
    "    # calculate closed loop prediction - Strictly this is not correct as disturbance is not included\n",
    "    Y_CL = Controller.Su*tmp + Controller.Y_openloop\n",
    "    #---------------------------------------------\n",
    "            \n",
    "    # save all the mv movements - past till now    \n",
    "    u_all = np.concatenate( [u_all, (u_all[-1,:] + u_current)], axis = 0)\n",
    "    d_all = np.concatenate( [d_all, d_current ], axis = 0)   \n",
    "    \n",
    "    # Perform simulation - Implement move on plant \n",
    "    #---------------------------------------------\n",
    "    t, y = G_model_state.simulate( np.concatenate( [ u_all, d_all ], axis=1 ) )\n",
    "    #---------------------------------------------\n",
    "\n",
    "    # measure and save data    \n",
    "    u_meas = np.ravel( u_all[-1,:] )\n",
    "    u_prev = np.ravel( u_all[-2,:] )\n",
    "    d_meas = np.ravel( d_all[-1,:] )\n",
    "    d_prev = np.ravel( d_all[-2,:] )\n",
    "        \n",
    "    # save all cv movements\n",
    "    y_meas = np.ravel( y[-1,:] )\n",
    "    y_all = np.concatenate( [y_all, ( y_all[0,:] + y_meas)], axis = 0)\n",
    "    sp_all = np.concatenate( [sp_all, np.matrix(Sim_SP[i,:])], axis=0)\n",
    "    # print data\n",
    "    #---------------------------------------------\n",
    "    #time = np.append(time, (i+1)*deltaT)\n",
    "    #elapsed = clock.time() - tic_timer\n",
    "    #print('Iteration', i, 'time elapsed (ms):', elapsed*1000, 'prediction error', np.sum(State.error) )\n",
    "    #---------------------------------------------\n",
    "    \n",
    "    # update plot\n",
    "    #---------------------------------------------\n",
    "    for j in range(no_cvs):\n",
    "        line_lstCVs_past[j].set_ydata(y_all[-hist:,j]) \n",
    "        line_lstCVs_future[j].set_ydata( Y_CL[(j*pred_H):( (j+1)*pred_H )] ) \n",
    "        line_lstSPs_past[j].set_ydata(sp_all[-hist:,j]) \n",
    "        line_lstSPs_future[j].set_ydata( np.repeat(Sim_SP[i,j], pred_H) )\n",
    "    \n",
    "    for k in range(no_mvs):\n",
    "        line_lstMVs_past[k].set_ydata(u_all[-hist:,k]) \n",
    "        line_lstMVs_future[k].set_ydata( np.cumsum( tmp[(k*cont_H):( (k+1)*cont_H )] ) + u_meas[k] )\n",
    "        \n",
    "    plt.pause(1e-6)\n",
    "    #---------------------------------------------\n"
   ]
  },
  {
   "cell_type": "code",
   "execution_count": 146,
   "metadata": {
    "collapsed": false
   },
   "outputs": [
    {
     "data": {
      "text/plain": [
       "array([-0.0392426 ,  0.0065258 ,  0.04901016])"
      ]
     },
     "execution_count": 146,
     "metadata": {},
     "output_type": "execute_result"
    }
   ],
   "source": [
    "u_current"
   ]
  }
 ],
 "metadata": {
  "kernelspec": {
   "display_name": "Python 2",
   "language": "python",
   "name": "python2"
  },
  "language_info": {
   "codemirror_mode": {
    "name": "ipython",
    "version": 2
   },
   "file_extension": ".py",
   "mimetype": "text/x-python",
   "name": "python",
   "nbconvert_exporter": "python",
   "pygments_lexer": "ipython2",
   "version": "2.7.13"
  }
 },
 "nbformat": 4,
 "nbformat_minor": 2
}
